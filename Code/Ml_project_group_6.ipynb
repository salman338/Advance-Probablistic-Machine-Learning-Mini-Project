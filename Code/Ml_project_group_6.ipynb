{
  "nbformat": 4,
  "nbformat_minor": 0,
  "metadata": {
    "colab": {
      "name": "Ml project group 6",
      "provenance": [],
      "collapsed_sections": [
        "gBbBIZ6bzIDL",
        "Tkj-6xwtz7AS",
        "QjWAsybwlDiI",
        "WS27V_-dVu2o",
        "RbvMI00a7HSy",
        "63AKBHd54BmS"
      ]
    },
    "kernelspec": {
      "display_name": "Python 3",
      "name": "python3"
    },
    "language_info": {
      "name": "python"
    }
  },
  "cells": [
    {
      "cell_type": "markdown",
      "metadata": {
        "id": "gBbBIZ6bzIDL"
      },
      "source": [
        "#Q1 Building the model\n",
        "\n",
        "$p(S1) =N(s1,\\mu_{s_1},\\Sigma_{s_1})$\n",
        "\n",
        "$p(S2) =N(s2,\\mu_{s_2},\\Sigma_{s_2})$   \n",
        "\n",
        "$p(t|s) = N(t, s_1-s_2 , \\Sigma_{t})$  \n",
        "\n",
        "$p(y|t) = sign(t)$\n",
        "\n",
        "$p(s_1,s_2,t,y) = p(s_1)p(s_2)p(t|s_1,s_2)p(y|t)$\n",
        "_________________________"
      ]
    },
    {
      "cell_type": "markdown",
      "metadata": {
        "id": "Tkj-6xwtz7AS"
      },
      "source": [
        "#Q2.Conditional independence:\n",
        "\n",
        "\n",
        "$p(s,y|t)= \\frac{p(s)p(s|t)p(t)p(y|t)}{p(s)P(t)} $\n",
        "\n",
        "$p(s,y|t) = p(s|t)p(y|t)$ \n",
        "\n",
        "so \n",
        "$s ⊥ y|t $\n",
        "\n",
        "*Refrence-> Lec1 p(29/33)"
      ]
    },
    {
      "cell_type": "markdown",
      "metadata": {
        "id": "zZcmyHgp0IMI"
      },
      "source": [
        "# Q.3 Computing with the model (Lecture 2)"
      ]
    },
    {
      "cell_type": "code",
      "metadata": {
        "id": "-QSJjCcfOuBi"
      },
      "source": [
        "import numpy as np\n",
        "import math\n",
        "import scipy.stats\n",
        "import matplotlib.pyplot as plt\n",
        "from scipy.integrate import quad\n",
        "import pandas as pd\n"
      ],
      "execution_count": null,
      "outputs": []
    },
    {
      "cell_type": "code",
      "metadata": {
        "id": "qJAAt3gRV3Om"
      },
      "source": [
        "#needed Variables for calculations\n",
        "\n",
        "A = np.array([1,-1])\n",
        "b =0\n",
        "t=3\n",
        "co_s= np.array([[1,0],[0,4]])\n",
        "co_ts = 5\n",
        "A_trans= A[:,None]\n",
        "#A_trans= np.transpose(A)\n",
        "Ms= np.array([1,-1])\n",
        "Ms_trans = Ms[:,None]\n",
        "\n",
        "\n"
      ],
      "execution_count": null,
      "outputs": []
    },
    {
      "cell_type": "markdown",
      "metadata": {
        "id": "QjWAsybwlDiI"
      },
      "source": [
        "\n",
        "## Part 1:\n",
        "###Gauss Corollary1 (Affine transformation – conditional)\n",
        "\n",
        "$p(s)= N(s ,M_s, \\Sigma_s )$   \n",
        "$p(t|s) = N(t; A s+b , \\Sigma_{t\\vert s} )$\n",
        "\n",
        "Then the conditional distribution of $x_s$ given $x_t$ is \n",
        "\n",
        "$p(s|t)= N(s; μ_{s|t} ,\\Sigma_{s\\vert t}  )$\n",
        " \n",
        "with\n",
        "\n",
        "$\\Sigma_{s\\vert t} = (\\Sigma_{s}^{-1} + A^T \\Sigma_{t|s}^{-1} A )^ {-1} $\n",
        "\n",
        "$μ_{s|t} = \\Sigma_{s\\vert t} (\\Sigma_{s}^{-1} μ_s + A^T \\Sigma_{t|s}^{-1} (t −b))$\n",
        "\n"
      ]
    },
    {
      "cell_type": "code",
      "metadata": {
        "id": "QIhuAQijRQGg"
      },
      "source": [
        "#segma_s|t for conditional distribution\n",
        "co_st = np.linalg.inv(np.linalg.inv(co_s) + (A_trans* (1/co_ts)*A))"
      ],
      "execution_count": null,
      "outputs": []
    },
    {
      "cell_type": "code",
      "metadata": {
        "id": "WWm3J8xzR-ka"
      },
      "source": [
        "#Mu_s|t for conditional distribution\n",
        "term1= np.linalg.inv(co_s)@Ms_trans\n",
        "term2= A_trans *(1/co_ts) * t\n",
        "\n",
        "M_st= co_st@(term1+ term2)"
      ],
      "execution_count": null,
      "outputs": []
    },
    {
      "cell_type": "code",
      "metadata": {
        "colab": {
          "base_uri": "https://localhost:8080/"
        },
        "id": "IbN1TT1xTd-h",
        "outputId": "0623277a-e741-4485-b288-43c8765f6d40"
      },
      "source": [
        "print(\"Mu_s|t = \",M_st)\n",
        "print(\"segma_s|t =\",co_st)"
      ],
      "execution_count": null,
      "outputs": [
        {
          "output_type": "stream",
          "name": "stdout",
          "text": [
            "Mu_s|t =  [[ 1.1]\n",
            " [-1.4]]\n",
            "segma_s|t = [[0.9 0.4]\n",
            " [0.4 2.4]]\n"
          ]
        }
      ]
    },
    {
      "cell_type": "markdown",
      "metadata": {
        "id": "WS27V_-dVu2o"
      },
      "source": [
        "## Part 2:\n",
        "###Truncated Gaussian\n",
        "\n",
        "$p(t|s_1,s_2,y) = p(y|t) p(t|s_1, s_2)$\n",
        "\n",
        "$p(y|t)= sign(t)$\n",
        "\n",
        "$p(t|s_1, s_2) = N(t; s_1 - s_2 , \\sigma_{t}^2 )$\n",
        "\n",
        "Given that $s_1 = 2 , s_2 = 1 , \\sigma_t ^{2} = 5$ so \n",
        "\n",
        "$$\n",
        "p(t|s_1,s_2,y)=\n",
        "  \\begin{cases}\n",
        "    N(t; 1 , 5 )       & \\quad \\text{if }0 < t< \\infty \\\\\n",
        "    0  & \\quad \\text otherwise\n",
        "  \\end{cases}\n",
        "$$\n"
      ]
    },
    {
      "cell_type": "markdown",
      "metadata": {
        "id": "RbvMI00a7HSy"
      },
      "source": [
        "## Part 3:\n",
        "###Corollary 2 (Affine transformation – Marginalization):\n",
        "\n",
        "\n",
        "The target is to find $p(y=1) = p(t>0)$\n",
        "\n",
        "In order to get $p(t>0)$ we use Gauss corollay2:\n",
        "\n",
        "$p(s) = N( s; μ_s, \\Sigma_s) $\n",
        "\n",
        "$p(t| s) = N(t; A s + b, \\Sigma_{t|s}) $\n",
        "\n",
        "Then $p(t) = N(t; \\mu_t , \\Sigma_{t})$ \n",
        "\n",
        "$\\mu_t = A \\mu_s + b $\n",
        "\n",
        "$\\Sigma_t = \\Sigma_{t|s} + A\\Sigma_s A^T$\n",
        "\n",
        "Then $get p(t>0) = \\int_{\\inf}^{0} p(t) \\,dt $\n",
        "\n",
        "<!-- Theorem 3 (Affine transformation): \n",
        "*$p(s) = N( s; μ_s, \\Sigma_s) $  \n",
        "\n",
        "*$p(t| s) = N(t; A s + b, \\Sigma_{t|s}) $\n",
        "\n",
        "$P(s,t)= N(\\begin{bmatrix}\n",
        "s \\\\\n",
        "t\n",
        "\\end{bmatrix} , \\begin{bmatrix}\n",
        "μ_s \\\\\n",
        "Aμ_s+b\n",
        "\\end{bmatrix}, R )$\n",
        "\n",
        "$$R = \\begin{bmatrix}\n",
        "\\Sigma_a & \\Sigma_a A^T\\\\\n",
        "A \\Sigma_a & \\Sigma_{b|a} + A \\Sigma_a A^T\n",
        "\\end{bmatrix}\n",
        "$$ -->\n"
      ]
    },
    {
      "cell_type": "markdown",
      "metadata": {
        "id": "C42psgKYngnW"
      },
      "source": [
        "<!-- ______________________________\n",
        "###Theorem 1 (Conditioning):\n",
        "Now we have $p(s,t)$ from theorem 1 we can get $p(t) $\n",
        "\n",
        "$p(s,t) = \\begin{bmatrix}\n",
        "t\\\\\n",
        "s\n",
        "\\end{bmatrix}\n",
        "$ , \n",
        "\n",
        "$\\mu = \\begin{bmatrix}\n",
        "\\mu_t  \\\\\n",
        "\\mu_s\n",
        "\\end{bmatrix}\n",
        "$\n",
        "\n",
        "$\\Sigma = \\begin{bmatrix}\n",
        "\\Sigma_{tt} & \\Sigma_{ts} \\\\\n",
        "\\Sigma_{st} & \\Sigma_{ss}\n",
        "\\end{bmatrix}\n",
        "$\n",
        "\n",
        "The marginal distribution $p(t)$ is then given by\n",
        "\n",
        "$p(t) = N(t; μ_t, \\Sigma_{tt}) .$ -->"
      ]
    },
    {
      "cell_type": "code",
      "metadata": {
        "colab": {
          "base_uri": "https://localhost:8080/"
        },
        "id": "hhKmdxoXjqxP",
        "outputId": "11bf6a67-a520-4b79-d255-0fa34c3f8b30"
      },
      "source": [
        "#Calculate p(t)\n",
        "Mt_2 = (A@Ms) + b\n",
        "co_t2 = co_ts + (A@co_s@A_trans)\n",
        "# print(\"Mb_2 = \",Mt_2)\n",
        "# print(\"co_b2=\",co_t2)\n",
        "\n",
        "#Calculate the integration for positive t\n",
        "lowerbound = 0\n",
        "upperbound = np.inf\n",
        "\n",
        "# generate Gaussian function\n",
        "def gauss(tt, mean, std): # REVISION\n",
        "    return scipy.stats.norm.pdf(tt, mean, std) # REVISION \n",
        "\n",
        "mean = Mt_2 # REVISION\n",
        "std = np.sqrt(co_t2) # REVISION\n",
        "\n",
        "# integrate between bounds\n",
        "integral = scipy.integrate.quad(gauss, lowerbound, upperbound, args=(mean, std)) # REVISION\n",
        "print(integral)\n"
      ],
      "execution_count": null,
      "outputs": [
        {
          "output_type": "stream",
          "name": "stdout",
          "text": [
            "(0.736455371567231, 4.947251011234974e-09)\n"
          ]
        }
      ]
    },
    {
      "cell_type": "code",
      "metadata": {
        "id": "1QYpGqLS8lTw"
      },
      "source": [
        "# def normal_dist(x , mean , sd):\n",
        "#     term1 = 1/(math.sqrt(2*np.pi*sd))\n",
        "#     term2 = - 0.5 * ((x-mean)**2 )/ sd\n",
        "#     prob_density = term1 * np.exp(term2)\n",
        "#     #prob_density = (1/(math.sqrt(2*np.pi*sd))) * np.exp(-0.5*((x-mean)/sd)**2)\n",
        "#     return prob_density\n",
        "\n",
        "# normal_dist(t,Mb_2,co_b2_r)"
      ],
      "execution_count": null,
      "outputs": []
    },
    {
      "cell_type": "markdown",
      "metadata": {
        "id": "QXp3Q3xP5vWe"
      },
      "source": [
        "#Q4. Bayesian Network\n",
        "\n",
        "##Designed bayesian Network for the model :\n",
        "\n",
        "<img src='https://drive.google.com/uc?id=1urEGrkVWd4y7SWCFm8VKgRWlnPkf21eT' width=\"200px\">\n",
        "\n",
        "\n",
        "*Refrence -> Lec 6 p(23/34)"
      ]
    },
    {
      "cell_type": "markdown",
      "metadata": {
        "id": "63AKBHd54BmS"
      },
      "source": [
        "##Prov:\n",
        "\n",
        "Notice that t is observed \n",
        "\n",
        "$$\n",
        "\\begin{equation}\n",
        "\\begin{split}\n",
        "P(s,y|t) & = \\frac{p(s,y,t)}{p(t)} \\\\\n",
        " & = \\frac{p(y|t)p(s|t)p(s)}{p(t)} \\\\\n",
        "& = p(y|t)p(s|t)\n",
        "\\end{split}\n",
        "\\end{equation} $$"
      ]
    },
    {
      "cell_type": "markdown",
      "metadata": {
        "id": "Fp3CGj014PA4"
      },
      "source": [
        "##Q5.\n",
        "From Q3 we have:\n",
        "\n",
        "$p(s|t)= N(s; \\begin{bmatrix}\n",
        "1.1\\\\\n",
        "-1.4\n",
        "\\end{bmatrix} ,\\begin{bmatrix}\n",
        "0.9 & 0.4 \\\\\n",
        "0.4 & 2.4\n",
        "\\end{bmatrix}  )$\n",
        "\n",
        "$$\n",
        "p(t|s_1,s_2,y)=\n",
        "  \\begin{cases}\n",
        "    N(t; 1 , 5 )       & \\quad \\text{if }0 < t< \\infty \\\\\n",
        "    0  & \\quad \\text otherwise\n",
        "  \\end{cases}\n",
        "$$\n",
        "\n",
        "$p(t) = N(t; 2 , 10)$ \n",
        "\n",
        "\n",
        "requirement:\n",
        "p(s1, s2|y) = Gibbs sampler()"
      ]
    },
    {
      "cell_type": "code",
      "metadata": {
        "id": "TZgZjtSX30cv"
      },
      "source": [
        "import scipy.stats as stats #REV\n",
        "import matplotlib.pyplot as plt\n",
        "\n",
        "#Algorithm:\n",
        "#1- i= 1,2,3,...k\n",
        "#2- simulate \n",
        "#S_1(i+1) = p(s_1_i|t_i)\n",
        "#S_2(i+1) = p(s_2_i|t_i)\n",
        "#t(i+1) = p(t_i|s_1_i,s_2_i,y)\n",
        "\n",
        "#initialization of variables\n",
        "#s_1 and S_2 has same variables\n",
        "segma_s1 = 25/3\n",
        "segma_s2 = 25/3\n",
        "\n",
        "mu_s1 = 25\n",
        "mu_s2 = 25\n",
        "segma_t = 25/6\n",
        "\n",
        "co_s = [[segma_s1**2,0],[0,segma_s2**2]]\n",
        "A = np.array([1,-1]) # REV\n",
        "A_trans = A[:, None]\n",
        "co_ts = 5\n",
        "Ms= np.array([mu_s1,mu_s2])\n",
        "Ms_trans=Ms[:, None]\n",
        "\n",
        "n_iterations = 1000\n",
        "\n",
        "y=1\n",
        "s_1 = np.zeros(n_iterations)\n",
        "s_2 = np.zeros(n_iterations)\n",
        "t = np.zeros(n_iterations)\n",
        "\n",
        "#Gibbs Function\n",
        "def Gibbs(mu_s1,mu_s2,segma_t,y,n_iterations, co_s , A, co_ts, A_trans, Ms_trans): ## REVISION (y,n_iterations,s_1,s_2,co_s,A,co_ts,A_trans,Ms_trans)\n",
        "    #output from iterations\n",
        "    s_1 = np.zeros(n_iterations)\n",
        "    s_2 = np.zeros(n_iterations)\n",
        "    t = np.zeros(n_iterations)\n",
        "    s_1[0] = mu_s1\n",
        "    s_2[0] = mu_s2\n",
        "    for i in range(n_iterations-1):\n",
        "      #t[i+1] = t_trunc(i, y, segma_t, s_1, s_2)\n",
        "      s_1[i+1] , s_2[i+1] = p_st(i, t[i+1], co_s, A, co_ts, A_trans, Ms_trans) #REV\n",
        "    return s_1, s_2, t \n",
        "\n",
        "\n",
        "from scipy.stats import truncnorm\n",
        "#Calculate t_i in order to use it in calculating the postirior p(s|t)\n",
        "def t_trunc(my_mean, my_std, y=1):\n",
        "  \n",
        "  if y==-1:\n",
        "    a = -10000\n",
        "    b = 0\n",
        "  else:\n",
        "    a = 0\n",
        "    b = 10000\n",
        "  \n",
        "  my_a = (a - my_mean) / my_std\n",
        "  my_b = (b - my_mean) / my_std\n",
        "  t_t= stats.truncnorm.rvs(a = my_a, b = my_b ,loc = my_mean , scale = my_std , size=1)\n",
        "  return t_t\n",
        "        \n",
        "\n",
        "def p_st(i,t,co_s,A,co_ts,A_trans,Ms_trans): #REV\n",
        "    #segma_s|t for conditional distribution\n",
        "    co_st = np.linalg.inv(np.linalg.inv(co_s) + (A_trans* (1/co_ts**2)*A))\n",
        "    #Mu_s|t for conditional distribution\n",
        "    term1= np.linalg.inv(co_s)@Ms_trans\n",
        "    term2= A_trans* (1/co_ts**2) * t\n",
        "    M_st= co_st@(term1+ term2)\n",
        "    #s_1,s_2 = N(s_1,s_2;Mu_st;Segma_st)\n",
        "    flat_M_st=np.ravel(M_st)\n",
        "    S_1, S_2 = np.random.multivariate_normal(np.ravel(M_st), co_st) #REV\n",
        "    return S_1, S_2 # REV\n",
        "\n",
        "def gauss_posterior(x_post, S1, S2):\n",
        "  m_s1_post = np.mean(S1)\n",
        "  std_s1_post = np.std(S1)\n",
        "\n",
        "  m_s2_post = np.mean(S2)\n",
        "  std_s2_post = np.std(S2)\n",
        "\n",
        "  S1_gauss_post = stats.norm.pdf(x_post, m_s1_post, std_s1_post)\n",
        "  S2_gauss_post = stats.norm.pdf(x_post, m_s2_post, std_s2_post)\n",
        "\n",
        "  return S1_gauss_post, S2_gauss_post\n",
        "\n",
        "  \n"
      ],
      "execution_count": null,
      "outputs": []
    },
    {
      "cell_type": "code",
      "metadata": {
        "colab": {
          "base_uri": "https://localhost:8080/",
          "height": 268
        },
        "id": "9aDdBBs14ORT",
        "outputId": "038598cb-d427-4ce1-ff8e-ee0ab81fe615"
      },
      "source": [
        "segma_s1 = 25/3\n",
        "segma_s2 = 25/3\n",
        "\n",
        "mu_s1 = 25\n",
        "mu_s2 = 25\n",
        "segma_t = 25/6\n",
        "n_iterations = 1000\n",
        "\n",
        "SS1, SS2 ,tt = Gibbs2(mu_s1, mu_s2, segma_s1, segma_s2, n_iterations, y = 1)\n",
        "\n",
        "plt.plot(SS1,label=\"s1\")\n",
        "plt.plot(SS2,label=\"s2\")\n",
        "plt.plot(tt,label=\"tt\")\n",
        "plt.legend()\n",
        "plt.show()\n",
        "################## ASK TA FOR BURNIN "
      ],
      "execution_count": null,
      "outputs": [
        {
          "output_type": "display_data",
          "data": {
            "image/png": "[encoded data removed]",
            "text/plain": [
              "<Figure size 432x288 with 1 Axes>"
            ]
          },
          "metadata": {
            "needs_background": "light"
          }
        }
      ]
    },
    {
      "cell_type": "code",
      "metadata": {
        "colab": {
          "base_uri": "https://localhost:8080/",
          "height": 265
        },
        "id": "hntSyo1ETzaN",
        "outputId": "6d111daa-ff6e-4389-f7c0-97cd984c1bc5"
      },
      "source": [
        "x_post = np.linspace(mu_s1-5*segma_s1, mu_s2+5*segma_s2, 100)\n",
        "s1_post, s2_post = gauss_posterior(x_post, SS1, SS2)\n",
        "#print(s1_post)\n",
        "plt.plot(x_post, s1_post, linewidth=2, label=\"s1_post\")\n",
        "plt.plot(x_post, s2_post, linewidth=2, label=\"s2_post\")\n",
        "plt.legend()\n",
        "plt.show()"
      ],
      "execution_count": null,
      "outputs": [
        {
          "output_type": "display_data",
          "data": {
            "image/png": "[encoded data removed]",
            "text/plain": [
              "<Figure size 432x288 with 1 Axes>"
            ]
          },
          "metadata": {
            "needs_background": "light"
          }
        }
      ]
    },
    {
      "cell_type": "code",
      "metadata": {
        "colab": {
          "base_uri": "https://localhost:8080/",
          "height": 1000
        },
        "id": "RHTAwJ85RR4O",
        "outputId": "0b1dc4bd-1deb-4440-937d-54fae1a9d7b0"
      },
      "source": [
        "import matplotlib.pyplot as plt\n",
        "import timeit\n",
        "\n",
        "\n",
        "#Plot the histogram of the samples generated (after burn-in) together with the\n",
        "# fitted Gaussian posterior for at least four (4) \n",
        "#different numbers of samples and report the time required to draw the samples\n",
        "def plot_samples_gauss():\n",
        "  itiration_list = [50,500,1000,10000]\n",
        "  x_samples = np.linspace(10, 40, 100)\n",
        "  for n in itiration_list :\n",
        "    start = timeit.default_timer()\n",
        "    S_plot1, S_plot2 ,tt = Gibbs2(mu_s1, mu_s2, segma_s1, segma_s2, n , y = 1)\n",
        "    SS_plot1, SS_plot2 = gauss_posterior(x_samples, S_plot1, S_plot2)\n",
        "    stop = timeit.default_timer()\n",
        "    time_diff =stop - start\n",
        "    print(\"\\n\"+\"The no of itiration \"+ str(n)+ \"& time is \"+ str(time_diff))\n",
        "    plt.hist(S_plot1[15:], label=\"s1\", bins =20, density=True)\n",
        "    plt.plot(x_samples, SS_plot1, linewidth=2, label=\"Gaussian posterior\")\n",
        "    plt.legend()\n",
        "    \n",
        "    # plt.hist(S_plot2[15:], label=\"s2\", bins =20, density=True)\n",
        "    # plt.plot(x_samples, SS_plot2, linewidth=2, label=\"Gaussian posterior\")\n",
        "    # plt.legend()\n",
        "    plt.show()\n",
        "    #the more samples the more approximation in a better way for mean and varience , \n",
        "\n",
        "segma_s1 = 25/3\n",
        "segma_s2 = 25/3\n",
        "\n",
        "mu_s1 = 25\n",
        "mu_s2 = 25\n",
        "segma_t = 25/6\n",
        "plot_samples_gauss()"
      ],
      "execution_count": null,
      "outputs": [
        {
          "output_type": "stream",
          "name": "stdout",
          "text": [
            "\n",
            "The no of itiration 50& time is 0.055366667998896446\n"
          ]
        },
        {
          "output_type": "display_data",
          "data": {
            "image/png": "[encoded data removed]",
            "text/plain": [
              "<Figure size 432x288 with 1 Axes>"
            ]
          },
          "metadata": {
            "needs_background": "light"
          }
        },
        {
          "output_type": "stream",
          "name": "stdout",
          "text": [
            "\n",
            "The no of itiration 500& time is 0.3126890280000225\n"
          ]
        },
        {
          "output_type": "display_data",
          "data": {
            "image/png": "[encoded data removed]",
            "text/plain": [
              "<Figure size 432x288 with 1 Axes>"
            ]
          },
          "metadata": {
            "needs_background": "light"
          }
        },
        {
          "output_type": "stream",
          "name": "stdout",
          "text": [
            "\n",
            "The no of itiration 1000& time is 0.5810360929990566\n"
          ]
        },
        {
          "output_type": "display_data",
          "data": {
            "image/png": "[encoded data removed]",
            "text/plain": [
              "<Figure size 432x288 with 1 Axes>"
            ]
          },
          "metadata": {
            "needs_background": "light"
          }
        },
        {
          "output_type": "stream",
          "name": "stdout",
          "text": [
            "\n",
            "The no of itiration 10000& time is 5.539450987998862\n"
          ]
        },
        {
          "output_type": "display_data",
          "data": {
            "image/png": "[encoded data removed]",
            "text/plain": [
              "<Figure size 432x288 with 1 Axes>"
            ]
          },
          "metadata": {
            "needs_background": "light"
          }
        }
      ]
    },
    {
      "cell_type": "markdown",
      "metadata": {
        "id": "FuKJZyXmLBuo"
      },
      "source": [
        "#Q6.Assumed Density Filtering:\n",
        "\n",
        "The results change when the order of the match is changed"
      ]
    },
    {
      "cell_type": "code",
      "metadata": {
        "id": "3cXv88SuyB9a"
      },
      "source": [
        "def Gibbs2 (mu_s1, mu_s2, segma_s1, segma_s2, iterations, y = 1):\n",
        "    \n",
        "    s_1 = np.zeros(iterations)\n",
        "    s_2 = np.zeros(iterations)\n",
        "    t = np.zeros(iterations)\n",
        "\n",
        "    s_1[0] = 1\n",
        "    s_2[0] = 1\n",
        "    t[0] = 0\n",
        "    segma_t = 25/6\n",
        "    A = np.array([1,-1])\n",
        "    Ms= np.array([mu_s1,mu_s2])\n",
        "    A_trans = A[:, None]\n",
        "    Ms_trans = Ms[:, None]\n",
        "\n",
        "    co_ts = 5\n",
        "    co_s = [[segma_s1,0],[0,segma_s2]]\n",
        "\n",
        "\n",
        "    for i in range(iterations-1):\n",
        "      s_1[i+1] , s_2[i+1] = p_st(i, t[i], co_s, A, co_ts, A_trans, Ms_trans)\n",
        "      my_mean = s_1[i+1] - s_2[i+1]\n",
        "      t[i+1] = t_trunc(my_mean, segma_t, y=1)\n",
        "\n",
        "    return s_1, s_2, t \n",
        "\n"
      ],
      "execution_count": null,
      "outputs": []
    },
    {
      "cell_type": "code",
      "metadata": {
        "id": "z1iXF2nTp5n3"
      },
      "source": [
        "def handle_score_v2(winner_team, loser_team, teams_list):\n",
        "\n",
        "  mu_winner_team = teams_list[winner_team][0]\n",
        "  mu_loser_team = teams_list[loser_team][0]\n",
        "\n",
        "  std_winner_team = teams_list[winner_team][1]\n",
        "  std_loser_team = teams_list[loser_team][1]\n",
        "\n",
        "  SS1, SS2, t = Gibbs2(mu_winner_team, mu_loser_team, std_winner_team, std_loser_team, 1000, y=1)\n",
        "  \n",
        "  return SS1,SS2,t"
      ],
      "execution_count": null,
      "outputs": []
    },
    {
      "cell_type": "code",
      "metadata": {
        "id": "rgPAVVZC-UPr"
      },
      "source": [
        "##Q6 -- This is the place where we need to read teams.csv files\n",
        "import pandas as pd\n",
        "import numpy as np\n",
        "\n",
        "fileurl = \"http://www.it.uu.se/edu/course/homepage/apml/project/SerieA.csv\"\n",
        "data = pd.read_csv(fileurl, na_values='?')\n",
        "\n",
        "teams = data['team1'].drop_duplicates()\n",
        "data = data.sample(frac=1).reset_index(drop=True) \n",
        "teams_list = dict()\n",
        "\n",
        "for team in teams:\n",
        "    teams_list[team] = (mu_s1, segma_s1)\n",
        "\n",
        "#print(teams_list)\n",
        "for i in range(data.shape[0]):\n",
        "  score_diff = data.iloc[i]['score1'] - data.iloc[i]['score2']\n",
        "  if score_diff > 0:\n",
        "    winner_team = data.iloc[i]['team1']\n",
        "    loser_team = data.iloc[i]['team2']\n",
        "    SS1_q6 , SS2_q6 , t = handle_score_v2(winner_team, loser_team, teams_list)\n",
        "    teams_list[winner_team] = [np.mean(SS1_q6), np.std(SS1_q6)]\n",
        "    teams_list[loser_team] = [np.mean(SS2_q6), np.std(SS2_q6)]\n",
        "    \n",
        "  elif score_diff < 0:\n",
        "    winner_team = data.iloc[i]['team2']\n",
        "    loser_team = data.iloc[i]['team1']\n",
        "    SS1_q6 , SS2_q6 , t = handle_score_v2(winner_team, loser_team, teams_list)\n",
        "    teams_list[winner_team] = [np.mean(SS1_q6), np.std(SS1_q6)]\n",
        "    teams_list[loser_team] = [np.mean(SS2_q6), np.std(SS2_q6)]\n",
        "  #print(np.mean(SS1_q6) , np.std(SS1_q6) , np.mean(SS2_q6),np.std(SS2_q6))\n",
        "  \n",
        "df = pd.DataFrame.from_dict(teams_list, orient='index', columns=['Skill', 'SD'])\n",
        "df.sort_values(by='Skill', inplace=True, ascending = False)\n",
        "df['Rank'] = range(1, len(df) + 1)\n",
        "\n"
      ],
      "execution_count": null,
      "outputs": []
    },
    {
      "cell_type": "code",
      "metadata": {
        "id": "sW9bZsVf2RBb"
      },
      "source": [
        "print(df)"
      ],
      "execution_count": null,
      "outputs": []
    },
    {
      "cell_type": "markdown",
      "metadata": {
        "id": "3zLGgHuhLKTu"
      },
      "source": [
        "#Q7.Using the model for predictions :\n"
      ]
    },
    {
      "cell_type": "code",
      "metadata": {
        "id": "3f6rpu66LvHK"
      },
      "source": [
        "def prediction_model(m_s1_predict, std_s1_predict, m_s2_predict, std_s2_predict):\n",
        "  #define model random variables\n",
        "  S1_predict = np.random.normal(m_s1_predict, std_s1_predict, 100)\n",
        "  S2_predict = np.random.normal(m_s2_predict, std_s2_predict, 100)\n",
        "  t_predict =  np.mean(S1_predict - S2_predict)\n",
        "  y_predict = np.sign(t_predict)\n",
        "\n",
        "  return y_predict"
      ],
      "execution_count": null,
      "outputs": []
    },
    {
      "cell_type": "code",
      "metadata": {
        "id": "74CbFm1Lw87q"
      },
      "source": [
        "def get_true_y(data):\n",
        "  y_true = []\n",
        "  for i in range(data.shape[0]):\n",
        "    t_result = data.iloc[i]['score1'] - data.iloc[i]['score2']\n",
        "    if t_result > 0:\n",
        "      y_true.append(1)  \n",
        "    elif t_result < 0:\n",
        "      y_true.append(-1)\n",
        "    else:\n",
        "      y_true.append(0)\n",
        "  return y_true\n",
        "\n",
        "\n",
        "def comparison_predicted_and_true_result(y_true, y_predicted):\n",
        "  numberOfTruePrediction = 0\n",
        "  for i in range(len(y_true)):\n",
        "    if y_true[i] == y_predicted[i]:\n",
        "      numberOfTruePrediction = numberOfTruePrediction + 1\n",
        "  \n",
        "  truePredictedPercentageWithDraws = numberOfTruePrediction*100/ len(y_true)\n",
        "  print(\"The true rate with draws = \" + str(truePredictedPercentageWithDraws))\n",
        "  truePredictedPercentageWithoutDraws = numberOfTruePrediction*100/ (len(y_true) - y_true.count(0))\n",
        "  print(\"The true rate without draws = \" + str(truePredictedPercentageWithoutDraws))\n",
        "        "
      ],
      "execution_count": null,
      "outputs": []
    },
    {
      "cell_type": "code",
      "metadata": {
        "id": "AWkjvg-QR8vE"
      },
      "source": [
        "#note that the result should be\n",
        "# deterministic and that you are only allowed to use the information of previous matches in this prediction\n",
        "\n",
        "#Trueskill Model\n",
        "\n",
        "def Trueskill_model(data):\n",
        "    true_y = get_true_y(data)\n",
        "    teams = data['team1'].drop_duplicates()\n",
        "    teams_list = dict()\n",
        "\n",
        "    for team in teams:\n",
        "        teams_list[team] = (mu_s1, segma_s1)\n",
        "\n",
        "    y_predicted_list = []\n",
        "\n",
        "    for i in range(data.shape[0]):\n",
        "        #print(data.iloc[i])\n",
        "        score_diff = data.iloc[i]['score1'] - data.iloc[i]['score2']\n",
        "        y_predicted = prediction_model(teams_list[data.iloc[i]['team1']][0], teams_list[data.iloc[i]['team1']][1],\n",
        "                  teams_list[data.iloc[i]['team2']][0], teams_list[data.iloc[i]['team2']][1])\n",
        "          \n",
        "        y_predicted_list.append(y_predicted)\n",
        "        if score_diff > 0:\n",
        "          winner_team = data.iloc[i]['team1']\n",
        "          loser_team = data.iloc[i]['team2']\n",
        "          SS1_handle , SS2_handle , t = handle_score_v2(winner_team, loser_team, teams_list)\n",
        "          teams_list[winner_team] = [np.mean(SS1_handle), np.std(SS1_handle)]\n",
        "          teams_list[loser_team] = [np.mean(SS2_handle), np.std(SS2_handle)]\n",
        "          \n",
        "\n",
        "        elif score_diff < 0:\n",
        "          winner_team = data.iloc[i]['team2']\n",
        "          loser_team = data.iloc[i]['team1']\n",
        "          SS1_handle , SS2_handle , t = handle_score_v2(winner_team, loser_team, teams_list)\n",
        "          teams_list[winner_team] = [np.mean(SS1_handle), np.std(SS1_handle)]\n",
        "          teams_list[loser_team] = [np.mean(SS2_handle), np.std(SS2_handle)]\n",
        "\n",
        "\n",
        "    return true_y, y_predicted_list\n"
      ],
      "execution_count": null,
      "outputs": []
    },
    {
      "cell_type": "code",
      "metadata": {
        "id": "7QbGWpl7G2BW"
      },
      "source": [
        "csv_data = pd.read_csv(fileurl, na_values='?')\n",
        "true_result , result_predicted_list = Trueskill_model(csv_data)"
      ],
      "execution_count": null,
      "outputs": []
    },
    {
      "cell_type": "code",
      "metadata": {
        "id": "3QyBUB3uEi3v"
      },
      "source": [
        "comparison_predicted_and_true_result(true_result, result_predicted_list)"
      ],
      "execution_count": null,
      "outputs": []
    },
    {
      "cell_type": "markdown",
      "metadata": {
        "id": "nQV3pk1GcnGK"
      },
      "source": [
        "#Q9:A message-passing algorithm"
      ]
    },
    {
      "cell_type": "code",
      "metadata": {
        "colab": {
          "base_uri": "https://localhost:8080/",
          "height": 513
        },
        "id": "D7dLxbRZscBk",
        "outputId": "40f3dae0-b0de-4556-b678-05549672e8a1"
      },
      "source": [
        "##### Q8 ##### --> Calculate p(t|y)\n",
        "\n",
        "def multiply_gauss(mean1, var1, mean2, var2):\n",
        "  var = 1 / (1 / var1 + 1 / var2)\n",
        "  mean = (mean1 / var1 + mean2 / var2) * var\n",
        "\n",
        "  return mean, var\n",
        "\n",
        "def divide_gauss(mean1, var1, mean2, var2):\n",
        "  return multiply_gauss(mean1, var1, mean2, -var2)\n",
        "\n",
        "\n",
        "def truncated_gauss(a, b, mean, var):\n",
        "  scaled_a = (a - mean) / np.sqrt(var)\n",
        "  scaled_b =(b - mean) / np.sqrt(var)\n",
        "  truncated_mean = stats.truncnorm.mean(scaled_a, scaled_b, loc=mean, scale=np.sqrt(var))\n",
        "  truncated_var = stats.truncnorm.var(scaled_a, scaled_b, loc=mean, scale=np.sqrt(var))\n",
        "   \n",
        "  return truncated_mean, truncated_var\n",
        "\n",
        "### MAIN TASK START ###\n",
        "\n",
        "mean_s1 = 25\n",
        "var_s1 = 25/3\n",
        "mean_s2 = 25\n",
        "var_s2 = 25/3\n",
        "\n",
        "y = 1\n",
        "st = 1\n",
        "\n",
        "mu3_s1_mean = mean_s1\n",
        "mu3_s1_var = var_s1\n",
        "mu3_s2_mean = mean_s2\n",
        "mu3_s2_var = var_s2\n",
        "\n",
        "mu4_s1_mean = mu3_s1_mean\n",
        "mu4_s1_var = mu3_s1_var\n",
        "\n",
        "mu4_s2_mean = mu3_s2_mean\n",
        "mu4_s2_var = mu3_s2_var\n",
        "\n",
        "mu5_mean = mean_s1 - mean_s2\n",
        "mu5_var = var_s1 + var_s2 + st\n",
        "\n",
        "if y == 1:\n",
        "  a = 0\n",
        "  b = 10000 \n",
        "else:\n",
        "  a = -10000\n",
        "  b = 0\n",
        "\n",
        "pt_mean, pt_var = truncated_gauss(a, b, mu5_mean, mu5_var)\n",
        "mu6_mean, mu6_var = divide_gauss(pt_mean , pt_var , mu5_mean, mu5_var)\n",
        "\n",
        "mu7_mean = var_s2 + mu6_mean\n",
        "mu7_var = mu6_var + st + var_s2\n",
        "\n",
        "mu8_mean = mean_s1 - mu6_mean\n",
        "mu8_var = mu6_var + st + var_s1\n",
        "\n",
        "ps1_mean, ps1_var = multiply_gauss(mu3_s1_mean, mu3_s1_var, mu7_mean, mu7_var)\n",
        "ps2_mean, ps2_var = multiply_gauss(mu3_s2_mean, mu3_s2_var, mu8_mean, mu8_var)\n",
        "\n",
        "x = np.linspace(mean_s1 - 5 * var_s1, mean_s1 + 5 * var_s1, 100)\n",
        "y = np.linspace(mean_s2 - 5 * var_s2, mean_s2 + 5 * var_s2, 100)\n",
        "\n",
        "s1_pdf = stats.norm.pdf(x, ps1_mean, np.sqrt(ps1_var))\n",
        "s2_pdf = stats.norm.pdf(y, ps2_mean, np.sqrt(ps2_var))\n",
        "\n",
        "burnInNum = 15\n",
        "\n",
        "S_plot1, S_plot2 ,tt = Gibbs2(mean_s1, mean_s2, var_s1, var_s2, 1000, y=1)\n",
        "m_s1 = np.mean(S_plot1[burnInNum:])\n",
        "m_s2 = np.mean(S_plot2[burnInNum:])\n",
        "v_s1 = np.var(S_plot1[burnInNum:])\n",
        "v_s2 = np.var(S_plot2[burnInNum:])\n",
        "\n",
        "x1 = np.linspace(m_s1 - 5 * np.sqrt(v_s1), m_s1 + 5 * np.sqrt(v_s1), K - burnInNum)\n",
        "x2 = np.linspace(m_s2 - 5 * np.sqrt(v_s2), m_s2 + 5 * np.sqrt(v_s2), K - burnInNum)\n",
        "\n",
        "s1_post = stats.norm.pdf(x1, m_s1, np.sqrt(v_s1))\n",
        "s2_post = stats.norm.pdf(x2, m_s2, np.sqrt(v_s2))\n",
        "\n",
        "\n",
        "plt.hist(S_plot1[burnInNum:],label=\"s1 gibbs sampling\", bins=30, density=True)\n",
        "plt.plot(x, s1_pdf, linewidth=2, label=\"s1 message passing\")\n",
        "plt.legend()\n",
        "plt.show()\n",
        "\n",
        "plt.hist(S_plot2[burnInNum:],label=\"s2 gibbs sampling\", bins=30, density=True)\n",
        "plt.plot(y, s2_pdf, linewidth=2, label=\"s2 message passing\")\n",
        "plt.legend()\n",
        "plt.show()\n",
        "\n",
        "# plt.plot(x1, s1_post, color=[0.39, 0.59, 0.80])\n",
        "# plt.plot(x2, s2_post, 'orange')\n",
        "\n",
        "# plt.show()"
      ],
      "execution_count": 153,
      "outputs": [
        {
          "output_type": "display_data",
          "data": {
            "image/png": "[encoded data removed]",
            "text/plain": [
              "<Figure size 432x288 with 1 Axes>"
            ]
          },
          "metadata": {
            "needs_background": "light"
          }
        },
        {
          "output_type": "display_data",
          "data": {
            "image/png": "[encoded data removed]",
            "text/plain": [
              "<Figure size 432x288 with 1 Axes>"
            ]
          },
          "metadata": {
            "needs_background": "light"
          }
        }
      ]
    },
    {
      "cell_type": "markdown",
      "metadata": {
        "id": "SvA6bHM1cuy3"
      },
      "source": [
        "#Q10:Your own data"
      ]
    },
    {
      "cell_type": "code",
      "metadata": {
        "id": "PN5GBj09c1an",
        "colab": {
          "base_uri": "https://localhost:8080/",
          "height": 443
        },
        "outputId": "0508b47c-8e5e-458e-acec-dd05a0bece80"
      },
      "source": [
        "hocky = pd.read_csv(\"hockey.csv\")\n",
        "hocky_proccessed = hocky[[\"Visitor\", \"Home\",\"G\",\"G.1\"]].rename(columns={'Visitor': 'team1', 'Home': 'team2',\n",
        "                                                     'G': 'score1','G.1': 'score2'})\n",
        "\n",
        "true_result_hocky , result_predicted_list_hocky = Trueskill_model(hocky_proccessed)\n",
        "len(result_predicted_list_hocky)\n",
        "comparison_predicted_and_true_result(true_result_hocky, result_predicted_list_hocky)\n",
        "\n",
        "hocky_proccessed.shape[0]"
      ],
      "execution_count": null,
      "outputs": [
        {
          "output_type": "error",
          "ename": "FileNotFoundError",
          "evalue": "ignored",
          "traceback": [
            "\u001b[0;31m---------------------------------------------------------------------------\u001b[0m",
            "\u001b[0;31mFileNotFoundError\u001b[0m                         Traceback (most recent call last)",
            "\u001b[0;32m<ipython-input-45-d91a7f68a4ec>\u001b[0m in \u001b[0;36m<module>\u001b[0;34m()\u001b[0m\n\u001b[0;32m----> 1\u001b[0;31m \u001b[0mhocky\u001b[0m \u001b[0;34m=\u001b[0m \u001b[0mpd\u001b[0m\u001b[0;34m.\u001b[0m\u001b[0mread_csv\u001b[0m\u001b[0;34m(\u001b[0m\u001b[0;34m\"hockey.csv\"\u001b[0m\u001b[0;34m)\u001b[0m\u001b[0;34m\u001b[0m\u001b[0;34m\u001b[0m\u001b[0m\n\u001b[0m\u001b[1;32m      2\u001b[0m hocky_proccessed = hocky[[\"Visitor\", \"Home\",\"G\",\"G.1\"]].rename(columns={'Visitor': 'team1', 'Home': 'team2',\n\u001b[1;32m      3\u001b[0m                                                      'G': 'score1','G.1': 'score2'})\n\u001b[1;32m      4\u001b[0m \u001b[0;34m\u001b[0m\u001b[0m\n\u001b[1;32m      5\u001b[0m \u001b[0mtrue_result_hocky\u001b[0m \u001b[0;34m,\u001b[0m \u001b[0mresult_predicted_list_hocky\u001b[0m \u001b[0;34m=\u001b[0m \u001b[0mTrueskill_model\u001b[0m\u001b[0;34m(\u001b[0m\u001b[0mhocky_proccessed\u001b[0m\u001b[0;34m)\u001b[0m\u001b[0;34m\u001b[0m\u001b[0;34m\u001b[0m\u001b[0m\n",
            "\u001b[0;32m/usr/local/lib/python3.7/dist-packages/pandas/io/parsers.py\u001b[0m in \u001b[0;36mread_csv\u001b[0;34m(filepath_or_buffer, sep, delimiter, header, names, index_col, usecols, squeeze, prefix, mangle_dupe_cols, dtype, engine, converters, true_values, false_values, skipinitialspace, skiprows, skipfooter, nrows, na_values, keep_default_na, na_filter, verbose, skip_blank_lines, parse_dates, infer_datetime_format, keep_date_col, date_parser, dayfirst, cache_dates, iterator, chunksize, compression, thousands, decimal, lineterminator, quotechar, quoting, doublequote, escapechar, comment, encoding, dialect, error_bad_lines, warn_bad_lines, delim_whitespace, low_memory, memory_map, float_precision)\u001b[0m\n\u001b[1;32m    686\u001b[0m     )\n\u001b[1;32m    687\u001b[0m \u001b[0;34m\u001b[0m\u001b[0m\n\u001b[0;32m--> 688\u001b[0;31m     \u001b[0;32mreturn\u001b[0m \u001b[0m_read\u001b[0m\u001b[0;34m(\u001b[0m\u001b[0mfilepath_or_buffer\u001b[0m\u001b[0;34m,\u001b[0m \u001b[0mkwds\u001b[0m\u001b[0;34m)\u001b[0m\u001b[0;34m\u001b[0m\u001b[0;34m\u001b[0m\u001b[0m\n\u001b[0m\u001b[1;32m    689\u001b[0m \u001b[0;34m\u001b[0m\u001b[0m\n\u001b[1;32m    690\u001b[0m \u001b[0;34m\u001b[0m\u001b[0m\n",
            "\u001b[0;32m/usr/local/lib/python3.7/dist-packages/pandas/io/parsers.py\u001b[0m in \u001b[0;36m_read\u001b[0;34m(filepath_or_buffer, kwds)\u001b[0m\n\u001b[1;32m    452\u001b[0m \u001b[0;34m\u001b[0m\u001b[0m\n\u001b[1;32m    453\u001b[0m     \u001b[0;31m# Create the parser.\u001b[0m\u001b[0;34m\u001b[0m\u001b[0;34m\u001b[0m\u001b[0;34m\u001b[0m\u001b[0m\n\u001b[0;32m--> 454\u001b[0;31m     \u001b[0mparser\u001b[0m \u001b[0;34m=\u001b[0m \u001b[0mTextFileReader\u001b[0m\u001b[0;34m(\u001b[0m\u001b[0mfp_or_buf\u001b[0m\u001b[0;34m,\u001b[0m \u001b[0;34m**\u001b[0m\u001b[0mkwds\u001b[0m\u001b[0;34m)\u001b[0m\u001b[0;34m\u001b[0m\u001b[0;34m\u001b[0m\u001b[0m\n\u001b[0m\u001b[1;32m    455\u001b[0m \u001b[0;34m\u001b[0m\u001b[0m\n\u001b[1;32m    456\u001b[0m     \u001b[0;32mif\u001b[0m \u001b[0mchunksize\u001b[0m \u001b[0;32mor\u001b[0m \u001b[0miterator\u001b[0m\u001b[0;34m:\u001b[0m\u001b[0;34m\u001b[0m\u001b[0;34m\u001b[0m\u001b[0m\n",
            "\u001b[0;32m/usr/local/lib/python3.7/dist-packages/pandas/io/parsers.py\u001b[0m in \u001b[0;36m__init__\u001b[0;34m(self, f, engine, **kwds)\u001b[0m\n\u001b[1;32m    946\u001b[0m             \u001b[0mself\u001b[0m\u001b[0;34m.\u001b[0m\u001b[0moptions\u001b[0m\u001b[0;34m[\u001b[0m\u001b[0;34m\"has_index_names\"\u001b[0m\u001b[0;34m]\u001b[0m \u001b[0;34m=\u001b[0m \u001b[0mkwds\u001b[0m\u001b[0;34m[\u001b[0m\u001b[0;34m\"has_index_names\"\u001b[0m\u001b[0;34m]\u001b[0m\u001b[0;34m\u001b[0m\u001b[0;34m\u001b[0m\u001b[0m\n\u001b[1;32m    947\u001b[0m \u001b[0;34m\u001b[0m\u001b[0m\n\u001b[0;32m--> 948\u001b[0;31m         \u001b[0mself\u001b[0m\u001b[0;34m.\u001b[0m\u001b[0m_make_engine\u001b[0m\u001b[0;34m(\u001b[0m\u001b[0mself\u001b[0m\u001b[0;34m.\u001b[0m\u001b[0mengine\u001b[0m\u001b[0;34m)\u001b[0m\u001b[0;34m\u001b[0m\u001b[0;34m\u001b[0m\u001b[0m\n\u001b[0m\u001b[1;32m    949\u001b[0m \u001b[0;34m\u001b[0m\u001b[0m\n\u001b[1;32m    950\u001b[0m     \u001b[0;32mdef\u001b[0m \u001b[0mclose\u001b[0m\u001b[0;34m(\u001b[0m\u001b[0mself\u001b[0m\u001b[0;34m)\u001b[0m\u001b[0;34m:\u001b[0m\u001b[0;34m\u001b[0m\u001b[0;34m\u001b[0m\u001b[0m\n",
            "\u001b[0;32m/usr/local/lib/python3.7/dist-packages/pandas/io/parsers.py\u001b[0m in \u001b[0;36m_make_engine\u001b[0;34m(self, engine)\u001b[0m\n\u001b[1;32m   1178\u001b[0m     \u001b[0;32mdef\u001b[0m \u001b[0m_make_engine\u001b[0m\u001b[0;34m(\u001b[0m\u001b[0mself\u001b[0m\u001b[0;34m,\u001b[0m \u001b[0mengine\u001b[0m\u001b[0;34m=\u001b[0m\u001b[0;34m\"c\"\u001b[0m\u001b[0;34m)\u001b[0m\u001b[0;34m:\u001b[0m\u001b[0;34m\u001b[0m\u001b[0;34m\u001b[0m\u001b[0m\n\u001b[1;32m   1179\u001b[0m         \u001b[0;32mif\u001b[0m \u001b[0mengine\u001b[0m \u001b[0;34m==\u001b[0m \u001b[0;34m\"c\"\u001b[0m\u001b[0;34m:\u001b[0m\u001b[0;34m\u001b[0m\u001b[0;34m\u001b[0m\u001b[0m\n\u001b[0;32m-> 1180\u001b[0;31m             \u001b[0mself\u001b[0m\u001b[0;34m.\u001b[0m\u001b[0m_engine\u001b[0m \u001b[0;34m=\u001b[0m \u001b[0mCParserWrapper\u001b[0m\u001b[0;34m(\u001b[0m\u001b[0mself\u001b[0m\u001b[0;34m.\u001b[0m\u001b[0mf\u001b[0m\u001b[0;34m,\u001b[0m \u001b[0;34m**\u001b[0m\u001b[0mself\u001b[0m\u001b[0;34m.\u001b[0m\u001b[0moptions\u001b[0m\u001b[0;34m)\u001b[0m\u001b[0;34m\u001b[0m\u001b[0;34m\u001b[0m\u001b[0m\n\u001b[0m\u001b[1;32m   1181\u001b[0m         \u001b[0;32melse\u001b[0m\u001b[0;34m:\u001b[0m\u001b[0;34m\u001b[0m\u001b[0;34m\u001b[0m\u001b[0m\n\u001b[1;32m   1182\u001b[0m             \u001b[0;32mif\u001b[0m \u001b[0mengine\u001b[0m \u001b[0;34m==\u001b[0m \u001b[0;34m\"python\"\u001b[0m\u001b[0;34m:\u001b[0m\u001b[0;34m\u001b[0m\u001b[0;34m\u001b[0m\u001b[0m\n",
            "\u001b[0;32m/usr/local/lib/python3.7/dist-packages/pandas/io/parsers.py\u001b[0m in \u001b[0;36m__init__\u001b[0;34m(self, src, **kwds)\u001b[0m\n\u001b[1;32m   2008\u001b[0m         \u001b[0mkwds\u001b[0m\u001b[0;34m[\u001b[0m\u001b[0;34m\"usecols\"\u001b[0m\u001b[0;34m]\u001b[0m \u001b[0;34m=\u001b[0m \u001b[0mself\u001b[0m\u001b[0;34m.\u001b[0m\u001b[0musecols\u001b[0m\u001b[0;34m\u001b[0m\u001b[0;34m\u001b[0m\u001b[0m\n\u001b[1;32m   2009\u001b[0m \u001b[0;34m\u001b[0m\u001b[0m\n\u001b[0;32m-> 2010\u001b[0;31m         \u001b[0mself\u001b[0m\u001b[0;34m.\u001b[0m\u001b[0m_reader\u001b[0m \u001b[0;34m=\u001b[0m \u001b[0mparsers\u001b[0m\u001b[0;34m.\u001b[0m\u001b[0mTextReader\u001b[0m\u001b[0;34m(\u001b[0m\u001b[0msrc\u001b[0m\u001b[0;34m,\u001b[0m \u001b[0;34m**\u001b[0m\u001b[0mkwds\u001b[0m\u001b[0;34m)\u001b[0m\u001b[0;34m\u001b[0m\u001b[0;34m\u001b[0m\u001b[0m\n\u001b[0m\u001b[1;32m   2011\u001b[0m         \u001b[0mself\u001b[0m\u001b[0;34m.\u001b[0m\u001b[0munnamed_cols\u001b[0m \u001b[0;34m=\u001b[0m \u001b[0mself\u001b[0m\u001b[0;34m.\u001b[0m\u001b[0m_reader\u001b[0m\u001b[0;34m.\u001b[0m\u001b[0munnamed_cols\u001b[0m\u001b[0;34m\u001b[0m\u001b[0;34m\u001b[0m\u001b[0m\n\u001b[1;32m   2012\u001b[0m \u001b[0;34m\u001b[0m\u001b[0m\n",
            "\u001b[0;32mpandas/_libs/parsers.pyx\u001b[0m in \u001b[0;36mpandas._libs.parsers.TextReader.__cinit__\u001b[0;34m()\u001b[0m\n",
            "\u001b[0;32mpandas/_libs/parsers.pyx\u001b[0m in \u001b[0;36mpandas._libs.parsers.TextReader._setup_parser_source\u001b[0;34m()\u001b[0m\n",
            "\u001b[0;31mFileNotFoundError\u001b[0m: [Errno 2] No such file or directory: 'hockey.csv'"
          ]
        }
      ]
    },
    {
      "cell_type": "code",
      "metadata": {
        "id": "mjqurPNy5B4m"
      },
      "source": [
        "hocky_proccessed"
      ],
      "execution_count": null,
      "outputs": []
    },
    {
      "cell_type": "code",
      "metadata": {
        "id": "hPdFlpuvqnF4"
      },
      "source": [
        "### Q11 ####\n",
        "\n",
        "import random\n",
        "\n",
        "def prediction_model_new(m_s1_predict, std_s1_predict, m_s2_predict, std_s2_predict, i):\n",
        "  #define model random variables\n",
        "\n",
        "  S1_predict = np.random.normal(m_s1_predict, std_s1_predict, 100)\n",
        "  S2_predict = np.random.normal(m_s2_predict, std_s2_predict, 100)\n",
        "  t_predict =  np.mean(S1_predict - S2_predict)\n",
        "\n",
        "  rand = random.randint(0,3) + 1\n",
        "\n",
        "  if i % rand == 0 and abs(t_predict < 0.1):\n",
        "    return 0\n",
        "  else:\n",
        "    return np.sign(t_predict)\n",
        "\n",
        "\n",
        "\n",
        "def Trueskill_model_new(data):\n",
        "    true_y = get_true_y(data)\n",
        "    teams = data['team1'].drop_duplicates()\n",
        "    teams_list = dict()\n",
        "\n",
        "    for team in teams:\n",
        "        teams_list[team] = (mu_s1, segma_s1)\n",
        "\n",
        "    y_predicted_list = []\n",
        "\n",
        "    for i in range(data.shape[0]):\n",
        "        #print(data.iloc[i])\n",
        "        score_diff = data.iloc[i]['score1'] - data.iloc[i]['score2']\n",
        "        y_predicted = prediction_model_new(teams_list[data.iloc[i]['team1']][0], teams_list[data.iloc[i]['team1']][1],\n",
        "                  teams_list[data.iloc[i]['team2']][0], teams_list[data.iloc[i]['team2']][1], i)\n",
        "          \n",
        "        y_predicted_list.append(y_predicted)\n",
        "        if score_diff > 0:\n",
        "          winner_team = data.iloc[i]['team1']\n",
        "          loser_team = data.iloc[i]['team2']\n",
        "          SS1_handle , SS2_handle , t = handle_score_v2(winner_team, loser_team, teams_list)\n",
        "          teams_list[winner_team] = [np.mean(SS1_handle), np.std(SS1_handle)]\n",
        "          teams_list[loser_team] = [np.mean(SS2_handle), np.std(SS2_handle)]\n",
        "          \n",
        "\n",
        "        elif score_diff < 0:\n",
        "          winner_team = data.iloc[i]['team2']\n",
        "          loser_team = data.iloc[i]['team1']\n",
        "          SS1_handle , SS2_handle , t = handle_score_v2(winner_team, loser_team, teams_list)\n",
        "          teams_list[winner_team] = [np.mean(SS1_handle), np.std(SS1_handle)]\n",
        "          teams_list[loser_team] = [np.mean(SS2_handle), np.std(SS2_handle)]\n",
        "\n",
        "\n",
        "    return true_y, y_predicted_list\n"
      ],
      "execution_count": null,
      "outputs": []
    },
    {
      "cell_type": "code",
      "metadata": {
        "id": "DLTaRXJVrYo0"
      },
      "source": [
        "csv_data = pd.read_csv(fileurl, na_values='?')\n",
        "true_result , result_predicted_list = Trueskill_model_new(csv_data)"
      ],
      "execution_count": null,
      "outputs": []
    },
    {
      "cell_type": "code",
      "metadata": {
        "id": "3A49aAs4rliC"
      },
      "source": [
        "comparison_predicted_and_true_result(true_result, result_predicted_list)"
      ],
      "execution_count": null,
      "outputs": []
    }
  ]
}